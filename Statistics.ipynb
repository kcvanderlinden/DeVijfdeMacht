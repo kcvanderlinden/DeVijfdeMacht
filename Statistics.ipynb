{
 "cells": [
  {
   "cell_type": "code",
   "execution_count": 1,
   "metadata": {},
   "outputs": [],
   "source": [
    "import pandas as pd\n",
    "import csv\n",
    "import numpy as np\n",
    "\n",
    "#Give name file from which you want to do statistics\n",
    "Read_csv = pd.read_csv(\"Corona-15072020-1601\" + \".csv\")"
   ]
  },
  {
   "cell_type": "code",
   "execution_count": 7,
   "metadata": {},
   "outputs": [],
   "source": [
    "##Descpritive and frequency statistics\n",
    "\n",
    "def descriptive_func():\n",
    "    #Providing a list of options to choose from\n",
    "    i = 0\n",
    "    ch_list = pd.DataFrame()\n",
    "    print('what do you want described?')\n",
    "    for col in Read_csv.columns:\n",
    "        col_num = i\n",
    "        i = i +1\n",
    "        ch_list = ch_list.append({'Number': col_num, 'Column': col}, ignore_index=True)\n",
    "        print(col_num, \"   \", col)\n",
    "\n",
    "    #What will be described is determined by the number associated with the column header\n",
    "    describe = Read_csv[ch_list.loc[(ch_list['Number'] == int(input()))].Column.to_string(index=False).strip()]\n",
    "\n",
    "    #Different statistics\n",
    "    print(\"The total number of cases is found is\", describe.count(), \"The number of unique cases of what is described is\", describe.nunique(), \"\\n\")\n",
    "    print(\"Per item of the count of occurences is the following \\n\", describe.value_counts())\n",
    "    \n",
    "#descriptive_func()"
   ]
  },
  {
   "cell_type": "code",
   "execution_count": 8,
   "metadata": {},
   "outputs": [],
   "source": [
    "##Correlation statistics\n",
    "\n",
    "def correlation_func(col1, col2, var1, var2):\n",
    "    #Giving names to the newly created and recoded columns with the possibility to call the names outside of the function\n",
    "    correlation_func.Recode_col1, correlation_func.Recode_col2 = input(\"The name of first recoded column:\"), input(\"The name of second recoded column:\")\n",
    "    #Recoding every variable that is equal to 1 and every other to 0\n",
    "    Read_csv[correlation_func.Recode_col1] = Read_csv.loc[(Read_csv[col1] == var1)].apply(lambda row: 1, axis = 1)\n",
    "    Read_csv[correlation_func.Recode_col1] = Read_csv[correlation_func.Recode_col1].fillna(0)\n",
    "    Read_csv[correlation_func.Recode_col2] = Read_csv.loc[(Read_csv[col2] == var2)].apply(lambda row: 1, axis = 1)\n",
    "    Read_csv[correlation_func.Recode_col2] = Read_csv[correlation_func.Recode_col2].fillna(0)\n",
    "    #Calling a correlation test based on the recoded columns\n",
    "    Cor_test = Read_csv[[correlation_func.Recode_col1, correlation_func.Recode_col2]].corr()\n",
    "    return Cor_test\n",
    "    \n",
    "#correlation_func('Speaker', 'Type_of_debate', 'Mevrouw K. Arib', 'Plenair debat')"
   ]
  },
  {
   "cell_type": "code",
   "execution_count": null,
   "metadata": {},
   "outputs": [],
   "source": []
  }
 ],
 "metadata": {
  "kernelspec": {
   "display_name": "Python 3",
   "language": "python",
   "name": "python3"
  },
  "language_info": {
   "codemirror_mode": {
    "name": "ipython",
    "version": 3
   },
   "file_extension": ".py",
   "mimetype": "text/x-python",
   "name": "python",
   "nbconvert_exporter": "python",
   "pygments_lexer": "ipython3",
   "version": "3.8.2"
  }
 },
 "nbformat": 4,
 "nbformat_minor": 4
}
